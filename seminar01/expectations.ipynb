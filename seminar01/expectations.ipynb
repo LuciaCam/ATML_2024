{
 "cells": [
  {
   "cell_type": "markdown",
   "metadata": {},
   "source": [
    "# Computing expected values"
   ]
  },
  {
   "cell_type": "markdown",
   "metadata": {},
   "source": [
    "In this notebook we use Python to compute expected values of random variables.\n",
    "This is a very important \"ingredient\" in dynamic programming methods,\n",
    "used to evaluate and find policies in small Markov Decision Process settings."
   ]
  },
  {
   "cell_type": "markdown",
   "metadata": {},
   "source": [
    "*<span style=\"color:red\">Below, the parts indicated by `#??` need to be filled in!</span>*"
   ]
  },
  {
   "cell_type": "markdown",
   "metadata": {},
   "source": [
    "### Example 1: normal dice"
   ]
  },
  {
   "cell_type": "markdown",
   "metadata": {},
   "source": [
    "Consider a fair, 6-sided dice. We want to find the expected value of the number shown after a roll.\n",
    "This can easily be computed to be $1/6 \\sum_{k=1}^6 k = 3.5$.\n",
    "In more complicated settings, it is often easier to iterate over possible outcomes and compute the expectation in a more naive fashion."
   ]
  },
  {
   "cell_type": "code",
   "execution_count": 3,
   "metadata": {},
   "outputs": [
    {
     "name": "stdout",
     "output_type": "stream",
     "text": [
      "3.5\n"
     ]
    }
   ],
   "source": [
    "## Function that computes the expected payout\n",
    "def ePayout():\n",
    "    numbers = [1, 2, 3, 4, 5, 6] # ?? Possible numbers shown\n",
    "    probs = [1/6]*6 # ?? Probability of each number\n",
    "    E = 0\n",
    "    for n, p in zip(numbers, probs):\n",
    "        E += n * p # ?? Compute \"contribution\" of this outcome\n",
    "    return E\n",
    "\n",
    "print(ePayout())"
   ]
  },
  {
   "cell_type": "markdown",
   "metadata": {},
   "source": [
    "### Example 2: $n$-sided dice"
   ]
  },
  {
   "cell_type": "markdown",
   "metadata": {},
   "source": [
    "Consider the following \"game\":\n",
    "The player rolls a fair $n$-sided dice (labelled $1, 2, \\dots, n$) and receives a payout of $X^2$,\n",
    "where $X$ denotes the number shown by the dice.\n",
    "What is the expected payout?"
   ]
  },
  {
   "cell_type": "code",
   "execution_count": 3,
   "metadata": {},
   "outputs": [
    {
     "name": "stdout",
     "output_type": "stream",
     "text": [
      "20.0\n"
     ]
    }
   ],
   "source": [
    "## Function that computes the expected payout\n",
    "def ePayout(N: int):\n",
    "    numbers = list(range(1, N+1)) # ?? Possible numbers shown\n",
    "    probs = [1/N]*N # ?? Probability of each number\n",
    "    E = 0\n",
    "    for n, p in zip(numbers, probs):\n",
    "        E += n**2 * p # ?? Compute \"contribution\" of this outcome\n",
    "    return E\n",
    "\n",
    "# Test for some value of n\n",
    "print(ePayout(7))"
   ]
  },
  {
   "cell_type": "markdown",
   "metadata": {},
   "source": [
    "*Bonus: this value can also be derived algebraically, using the identity $\\sum_{x=1}^n x^2 = n(n+1)(2n+1)/6$.*"
   ]
  },
  {
   "cell_type": "markdown",
   "metadata": {},
   "source": [
    "### Example 3: two-step game"
   ]
  },
  {
   "cell_type": "markdown",
   "metadata": {},
   "source": [
    "Consider the following \"game\":\n",
    "The player rolls a fair $n$-sided dice,\n",
    "let $X$ denote the result of this roll.\n",
    "If $X$ is odd, the player receives a payout of $-1$.\n",
    "If $X$ is even, the player draws a card from a deck labelled $(-2, -1, 0, 1, \\dots, X/2)$\n",
    "and receives a payout equal to the number drawn.\n",
    "What is the expected payout?"
   ]
  },
  {
   "cell_type": "markdown",
   "metadata": {},
   "source": [
    "**ANSWER**\n",
    "\n",
    "For an even result $X$, let us define $x = X/2$. The expectation associated with outcome $X$ is\n",
    "$$ \\dfrac{1}{3 + x} \\left((-2) + (-1) + 0 + 1 + \\ldots + x \\right) $$\n",
    "It can be rewritten as\n",
    "$$ \\dfrac{1}{3 + x} \\left(\\dfrac{1}{2} x (x+1) -3\\right) = \\dfrac{x-2}{2}$$\n",
    "\n",
    "The computation of the expectation depends on if the number of sides on the dice, $N$, is even or odd.\n",
    "$$\n",
    "\\mathbb{E}[game] =\n",
    "\\begin{cases}\n",
    "- \\dfrac{1}{2} + \\dfrac{1}{N}\\sum\\limits_{x=1}^{N/2} \\dfrac{x-2}{2} & \\text{if $N$ is even} \\\\\n",
    "- \\dfrac{N+1}{2N} + \\dfrac{1}{N}\\sum\\limits_{x=1}^{(N-1)/2} \\dfrac{x-2}{2} & \\text{if $N$ is odd}\n",
    "\\end{cases}\n",
    "$$\n",
    "\n",
    "This can be simplified into:\n",
    "\n",
    "$$\n",
    "\\mathbb{E}[game] =\n",
    "\\begin{cases}\n",
    "\\dfrac{1}{16}(N -14) & \\text{if $N$ is even} \\\\\n",
    "\\dfrac{1}{16N}(N^2 -16N -1)  & \\text{if $N$ is odd}\n",
    "\\end{cases}\n",
    "$$"
   ]
  },
  {
   "cell_type": "code",
   "execution_count": 52,
   "metadata": {},
   "outputs": [
    {
     "name": "stdout",
     "output_type": "stream",
     "text": [
      "1 -1.0000\n",
      "2 -0.7500\n",
      "3 -0.8333\n",
      "4 -0.6250\n",
      "5 -0.7000\n",
      "6 -0.5000\n",
      "7 -0.5714\n",
      "8 -0.3750\n",
      "9 -0.4444\n",
      "10 -0.2500\n",
      "11 -0.3182\n",
      "12 -0.1250\n",
      "13 -0.1923\n",
      "14 0.0000\n",
      "15 -0.0667\n",
      "16 0.1250\n",
      "17 0.0588\n",
      "18 0.2500\n",
      "19 0.1842\n",
      "20 0.3750\n",
      "21 0.3095\n",
      "22 0.5000\n",
      "23 0.4348\n",
      "24 0.6250\n",
      "25 0.5600\n"
     ]
    }
   ],
   "source": [
    "## Function that computes the expected payout\n",
    "def ePayout(N: int):\n",
    "    if N % 2 == 0:\n",
    "        return (N-14) / 16\n",
    "    else:\n",
    "        return (N**2 -16*N -1) / (16*N)\n",
    "\n",
    "# Check values for some n\n",
    "for x in range(1, 26):\n",
    "    print(x, f'{ePayout(x):.4f}')"
   ]
  },
  {
   "cell_type": "markdown",
   "metadata": {},
   "source": [
    "### Monte Carlo"
   ]
  },
  {
   "cell_type": "markdown",
   "metadata": {},
   "source": [
    "The expectations above can also be estimated using Monte-Carlo estimation,\n",
    "repeating the experiment $N$ times for some large $N$."
   ]
  },
  {
   "cell_type": "code",
   "execution_count": 5,
   "metadata": {},
   "outputs": [],
   "source": [
    "# We need to generate random numbers to do this\n",
    "import random"
   ]
  },
  {
   "cell_type": "code",
   "execution_count": 43,
   "metadata": {},
   "outputs": [
    {
     "data": {
      "text/plain": [
       "3.5237"
      ]
     },
     "execution_count": 43,
     "metadata": {},
     "output_type": "execute_result"
    }
   ],
   "source": [
    "## Example 1\n",
    "def mcPayout(N):\n",
    "    xList = [0] * N\n",
    "    for i in range(N):\n",
    "        xList[i] = random.randint(1, 6)\n",
    "    return sum(xList) / N\n",
    "\n",
    "# Run MC\n",
    "mcPayout(10000)"
   ]
  },
  {
   "cell_type": "code",
   "execution_count": 7,
   "metadata": {},
   "outputs": [
    {
     "data": {
      "text/plain": [
       "20.0474"
      ]
     },
     "execution_count": 7,
     "metadata": {},
     "output_type": "execute_result"
    }
   ],
   "source": [
    "## Example 2\n",
    "def mcPayout(N, n):\n",
    "    xList = [0] * N\n",
    "    for i in range(N):\n",
    "        xList[i] = random.randint(1, n)**2\n",
    "    return sum(xList) / N\n",
    "\n",
    "# Run MC\n",
    "mcPayout(10000, 7)"
   ]
  },
  {
   "cell_type": "code",
   "execution_count": 60,
   "metadata": {},
   "outputs": [
    {
     "name": "stdout",
     "output_type": "stream",
     "text": [
      "-1.0\n",
      "-0.74921\n",
      "-0.83524\n",
      "-0.62504\n",
      "-0.70043\n"
     ]
    }
   ],
   "source": [
    "import numpy as np\n",
    "\n",
    "def mcPayout(N, n):\n",
    "    \n",
    "    xList = np.random.choice(range(1, n+1), N, replace=True)\n",
    "    xListOdd = [-1 for x in xList if x % 2 == 1]\n",
    "    xListEven = [random.randint(-2, x/2) for x in xList if x % 2 == 0]\n",
    "\n",
    "    return (sum(xListOdd) + sum(xListEven)) / N\n",
    "\n",
    "\n",
    "# Run MC\n",
    "for x in range(1, 6):\n",
    "    print(mcPayout(100000, x))"
   ]
  }
 ],
 "metadata": {
  "kernelspec": {
   "display_name": "Python 3",
   "language": "python",
   "name": "python3"
  },
  "language_info": {
   "codemirror_mode": {
    "name": "ipython",
    "version": 3
   },
   "file_extension": ".py",
   "mimetype": "text/x-python",
   "name": "python",
   "nbconvert_exporter": "python",
   "pygments_lexer": "ipython3",
   "version": "3.10.7"
  }
 },
 "nbformat": 4,
 "nbformat_minor": 2
}
