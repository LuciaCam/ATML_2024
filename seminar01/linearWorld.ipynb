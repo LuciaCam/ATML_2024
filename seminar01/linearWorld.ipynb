{
 "cells": [
  {
   "cell_type": "markdown",
   "id": "e6a360d3",
   "metadata": {},
   "source": [
    "# Linear World\n",
    "\n",
    "In this notebook we implement a very simple example of the agent-environment interface used in reinforcement learning, called \"linear world\".\n",
    "\n",
    "The world consists of $n$ places in a row, labelled $0, 1, \\dots, n-1$, and the state of the world consists of the position where the player is located. The initial state has the player in the middle of the world:\n",
    "- The (empty) world for $n=5$: `\"_ _ _ _ _\"`\n",
    "- With the player in position $2$: `\"_ _ X _ _\"`\n",
    "\n",
    "The actions that the agent can take are `LEFT` and `RIGHT`, each moving the player one place in the indicated direction. In the two outer positions ($0$ and $n-1$), both actions result in a step towards the inside:\n",
    "- After action `RIGHT`: `\"_ _ _ X _\"`\n",
    "- After action `RIGHT`: `\"_ _ _ _ X\"`\n",
    "- After action `LEFT` or `RIGHT`: `\"_ _ _ X _\"`\n",
    "\n",
    "The reward is $+1$ for an action that leaves the player in one of the outer positions, and $0$, else. A possible sequence of events in this setting is:\n",
    "- `\"_ _ X _ _\"` $S_0 = 2, A_0 = \\text{\"RIGHT\"}$\n",
    "- `\"_ _ _ X _\"` $S_1 = 3, A_1 = \\text{\"LEFT\"}, R_1 = 0$\n",
    "- `\"_ _ X _ _\"` $S_2 = 2, A_2 = \\text{\"LEFT\"}, R_2 = 0$\n",
    "- `\"_ X _ _ _\"` $S_3 = 1, A_3 = \\text{\"LEFT\"}, R_3 = 0$\n",
    "- `\"X _ _ _ _\"` $S_4 = 0, A_4 = \\text{\"RIGHT\"}, R_4 = 1$\n",
    "- `\"_ X _ _ _\"` $S_5 = 1, A_5 = \\dots, R_5 = 0$\n",
    "\n",
    "\n"
   ]
  },
  {
   "cell_type": "markdown",
   "id": "fbe17e41",
   "metadata": {},
   "source": [
    "*<span style=\"color:red\">Below, the parts indicated by `#??` need to be filled in!</span>*"
   ]
  },
  {
   "cell_type": "code",
   "execution_count": 4,
   "id": "f18ef561",
   "metadata": {},
   "outputs": [],
   "source": [
    "import math"
   ]
  },
  {
   "cell_type": "code",
   "execution_count": 5,
   "id": "0ee78251",
   "metadata": {},
   "outputs": [],
   "source": [
    "# We use constants 1 and 2 to represent LEFT, RIGHT:\n",
    "# CHANGED TO -1 AND 1 BECAUSE EASIER TO DEAL WITH\n",
    "LEFT = -1\n",
    "RIGHT = 1"
   ]
  },
  {
   "cell_type": "code",
   "execution_count": 6,
   "id": "cb622ce6",
   "metadata": {},
   "outputs": [],
   "source": [
    "class LinearWorld:\n",
    "    def __init__(self, length):\n",
    "        # Store length of world\n",
    "        # underscore before atttribute ensures it cannot be changed by user after creation (\"private\")\n",
    "        self._length = length\n",
    "        \n",
    "        # Initialize state of world in the middle\n",
    "        self._state = length // 2\n",
    "    \n",
    "    def step(self, action):\n",
    "        # Compute new state\n",
    "        #?? (1. handle the outer two positions)\n",
    "        if self._state == 0:\n",
    "            self._state = 1\n",
    "        elif self._state == self._length - 1:\n",
    "            self._state = self._length - 2\n",
    "        #?? (2. change position to the left/right)\n",
    "        elif action in (-1, 1):\n",
    "            self._state = self._state + action\n",
    "        else:\n",
    "            raise Exception('Wrong input')\n",
    "\n",
    "        # Compute reward\n",
    "        if self._state in (0, self._length - 1):\n",
    "            reward = 1\n",
    "        else:\n",
    "            reward = 0\n",
    "        \n",
    "        # Return state and reward\n",
    "        return self._state, reward\n",
    "    \n",
    "    def reset(self):\n",
    "        # Reset the position to the middle\n",
    "        self._state = self._length//2\n",
    "    \n",
    "    def showWorld(self):\n",
    "        #Print a representation of the linear world\n",
    "        # Start with an empty string\n",
    "        # Add \"_\" for every empty spot, \"X\" for the player\n",
    "        world_string = ['_']*self._length\n",
    "        world_string[self._state] = 'X'\n",
    "        world_string = ' '.join(world_string)\n",
    "        \n",
    "        # Print the complete string\n",
    "        print(world_string)\n",
    "    \n",
    "    def __str__(self):\n",
    "        # (!) Advanced concept:\n",
    "        # Custom string-conversion (used e.g. by `print()`)\n",
    "        \n",
    "        # Use the same logic as in .showWorld(), but return the string\n",
    "        # (instead of printing it)\n",
    "        world_string = ['_']*self._length\n",
    "        world_string[self._state] = 'X'\n",
    "        world_string = ' '.join(world_string)\n",
    "\n",
    "        return world_string\n"
   ]
  },
  {
   "cell_type": "markdown",
   "id": "f8caaca3",
   "metadata": {},
   "source": [
    "## Testing the linear world\n",
    "\n",
    "First, we create an instance of `LinearWorld`, then we use the `.step()` method to perform actions ($A_t$) and observe the resulting state ($S_{t+1}$) and reward ($R_{t+1}$)."
   ]
  },
  {
   "cell_type": "code",
   "execution_count": 7,
   "id": "1989a25c",
   "metadata": {},
   "outputs": [],
   "source": [
    "# Create a new instance of the LinearWorld class\n",
    "lw = LinearWorld(5)"
   ]
  },
  {
   "cell_type": "code",
   "execution_count": 8,
   "id": "1de7894e",
   "metadata": {},
   "outputs": [
    {
     "name": "stdout",
     "output_type": "stream",
     "text": [
      "5\n",
      "2\n"
     ]
    }
   ],
   "source": [
    "# Check the properties `length` and `pos` of the instance\n",
    "print(lw._length)\n",
    "print(lw._state)"
   ]
  },
  {
   "cell_type": "code",
   "execution_count": 9,
   "id": "e3376b28",
   "metadata": {},
   "outputs": [
    {
     "name": "stdout",
     "output_type": "stream",
     "text": [
      "3\n",
      "0\n"
     ]
    }
   ],
   "source": [
    "# Make a step and assign the outcome to variables (state + reward)\n",
    "_state, reward = lw.step(RIGHT)\n",
    "\n",
    "# Print the outcome\n",
    "print(_state)\n",
    "print(reward)"
   ]
  },
  {
   "cell_type": "markdown",
   "id": "64349e60",
   "metadata": {},
   "source": [
    "We can use the method `.showWorld()` to visualize the events \"graphically\":"
   ]
  },
  {
   "cell_type": "code",
   "execution_count": 10,
   "id": "aa2d7c2a",
   "metadata": {},
   "outputs": [
    {
     "name": "stdout",
     "output_type": "stream",
     "text": [
      "_ _ _ _ X\n"
     ]
    }
   ],
   "source": [
    "# Make a step\n",
    "lw.step(RIGHT)\n",
    "\n",
    "# Show the new state of the world\n",
    "lw.showWorld()"
   ]
  },
  {
   "cell_type": "code",
   "execution_count": 11,
   "id": "8f9b3bc2",
   "metadata": {},
   "outputs": [
    {
     "name": "stdout",
     "output_type": "stream",
     "text": [
      "_ _ X _ _\n",
      "_ _ _ X _\n",
      "_ _ _ _ X\n",
      "_ _ _ X _\n"
     ]
    }
   ],
   "source": [
    "lw = LinearWorld(5)\n",
    "lw.showWorld()\n",
    "lw.step(RIGHT)\n",
    "lw.showWorld()\n",
    "lw.step(RIGHT)\n",
    "lw.showWorld()\n",
    "lw.step(RIGHT)\n",
    "lw.showWorld()"
   ]
  },
  {
   "cell_type": "markdown",
   "id": "d12abb34",
   "metadata": {},
   "source": [
    "## Two simple policies\n",
    "\n",
    "Next, we implement two policies and see how they perform over a timespan of $T = 100$ steps:\n",
    "- The random policy randomly chooses and action\n",
    "- The \"right\" policy always goes `RIGHT`"
   ]
  },
  {
   "cell_type": "code",
   "execution_count": 12,
   "id": "a441b8ca",
   "metadata": {},
   "outputs": [],
   "source": [
    "# We use numpy to choose a random action\n",
    "import numpy as np"
   ]
  },
  {
   "cell_type": "code",
   "execution_count": 13,
   "id": "ac43f25b",
   "metadata": {},
   "outputs": [],
   "source": [
    "# Number of steps\n",
    "T = 100"
   ]
  },
  {
   "cell_type": "code",
   "execution_count": 14,
   "id": "e2f80c56",
   "metadata": {},
   "outputs": [
    {
     "name": "stdout",
     "output_type": "stream",
     "text": [
      "_ _ _ _ X _ _\n",
      "_ _ _ X _ _ _\n",
      "_ _ _ _ X _ _\n",
      "_ _ _ _ _ X _\n",
      "_ _ _ _ _ _ X\n",
      "_ _ _ _ _ X _\n",
      "_ _ _ _ X _ _\n",
      "_ _ _ X _ _ _\n",
      "_ _ X _ _ _ _\n",
      "_ _ _ X _ _ _\n",
      "_ _ _ _ X _ _\n",
      "_ _ _ X _ _ _\n",
      "_ _ _ _ X _ _\n",
      "_ _ _ _ _ X _\n",
      "_ _ _ _ _ _ X\n",
      "_ _ _ _ _ X _\n",
      "_ _ _ _ X _ _\n",
      "_ _ _ _ _ X _\n",
      "_ _ _ _ _ _ X\n",
      "_ _ _ _ _ X _\n",
      "_ _ _ _ X _ _\n",
      "_ _ _ _ _ X _\n",
      "_ _ _ _ _ _ X\n",
      "_ _ _ _ _ X _\n",
      "_ _ _ _ X _ _\n",
      "_ _ _ _ _ X _\n",
      "_ _ _ _ _ _ X\n",
      "_ _ _ _ _ X _\n",
      "_ _ _ _ _ _ X\n",
      "_ _ _ _ _ X _\n",
      "_ _ _ _ X _ _\n",
      "_ _ _ _ _ X _\n",
      "_ _ _ _ X _ _\n",
      "_ _ _ X _ _ _\n",
      "_ _ _ _ X _ _\n",
      "_ _ _ _ _ X _\n",
      "_ _ _ _ _ _ X\n",
      "_ _ _ _ _ X _\n",
      "_ _ _ _ X _ _\n",
      "_ _ _ X _ _ _\n",
      "_ _ X _ _ _ _\n",
      "_ X _ _ _ _ _\n",
      "_ _ X _ _ _ _\n",
      "_ _ _ X _ _ _\n",
      "_ _ _ _ X _ _\n",
      "_ _ _ X _ _ _\n",
      "_ _ X _ _ _ _\n",
      "_ X _ _ _ _ _\n",
      "_ _ X _ _ _ _\n",
      "_ X _ _ _ _ _\n",
      "X _ _ _ _ _ _\n",
      "_ X _ _ _ _ _\n",
      "X _ _ _ _ _ _\n",
      "_ X _ _ _ _ _\n",
      "_ _ X _ _ _ _\n",
      "_ X _ _ _ _ _\n",
      "_ _ X _ _ _ _\n",
      "_ X _ _ _ _ _\n",
      "X _ _ _ _ _ _\n",
      "_ X _ _ _ _ _\n",
      "_ _ X _ _ _ _\n",
      "_ X _ _ _ _ _\n",
      "X _ _ _ _ _ _\n",
      "_ X _ _ _ _ _\n",
      "_ _ X _ _ _ _\n",
      "_ X _ _ _ _ _\n",
      "X _ _ _ _ _ _\n",
      "_ X _ _ _ _ _\n",
      "_ _ X _ _ _ _\n",
      "_ _ _ X _ _ _\n",
      "_ _ _ _ X _ _\n",
      "_ _ _ _ _ X _\n",
      "_ _ _ _ X _ _\n",
      "_ _ _ X _ _ _\n",
      "_ _ _ _ X _ _\n",
      "_ _ _ _ _ X _\n",
      "_ _ _ _ _ _ X\n",
      "_ _ _ _ _ X _\n",
      "_ _ _ _ _ _ X\n",
      "_ _ _ _ _ X _\n",
      "_ _ _ _ _ _ X\n",
      "_ _ _ _ _ X _\n",
      "_ _ _ _ _ _ X\n",
      "_ _ _ _ _ X _\n",
      "_ _ _ _ X _ _\n",
      "_ _ _ X _ _ _\n",
      "_ _ _ _ X _ _\n",
      "_ _ _ X _ _ _\n",
      "_ _ _ _ X _ _\n",
      "_ _ _ X _ _ _\n",
      "_ _ X _ _ _ _\n",
      "_ X _ _ _ _ _\n",
      "_ _ X _ _ _ _\n",
      "_ X _ _ _ _ _\n",
      "_ _ X _ _ _ _\n",
      "_ _ _ X _ _ _\n",
      "_ _ X _ _ _ _\n",
      "_ _ _ X _ _ _\n",
      "_ _ X _ _ _ _\n",
      "_ X _ _ _ _ _\n"
     ]
    }
   ],
   "source": [
    "# Run the random policy for T steps, update the total reward\n",
    "lw = LinearWorld(7)\n",
    "totalRandom = 0\n",
    "for t in range(T):\n",
    "    _, reward = lw.step(np.random.choice((-1, 1), size=1)[0])\n",
    "    lw.showWorld()\n",
    "    totalRandom = totalRandom + reward"
   ]
  },
  {
   "cell_type": "code",
   "execution_count": 15,
   "id": "a6db5af8",
   "metadata": {},
   "outputs": [
    {
     "name": "stdout",
     "output_type": "stream",
     "text": [
      "16\n"
     ]
    }
   ],
   "source": [
    "# Check the total rewards we got\n",
    "print(totalRandom)"
   ]
  },
  {
   "cell_type": "code",
   "execution_count": 16,
   "id": "7e6a972d",
   "metadata": {},
   "outputs": [
    {
     "name": "stdout",
     "output_type": "stream",
     "text": [
      "_ _ _ _ X _ _\n",
      "_ _ _ _ _ X _\n",
      "_ _ _ _ _ _ X\n",
      "_ _ _ _ _ X _\n",
      "_ _ _ _ _ _ X\n",
      "_ _ _ _ _ X _\n",
      "_ _ _ _ _ _ X\n",
      "_ _ _ _ _ X _\n",
      "_ _ _ _ _ _ X\n",
      "_ _ _ _ _ X _\n",
      "_ _ _ _ _ _ X\n",
      "_ _ _ _ _ X _\n",
      "_ _ _ _ _ _ X\n",
      "_ _ _ _ _ X _\n",
      "_ _ _ _ _ _ X\n",
      "_ _ _ _ _ X _\n",
      "_ _ _ _ _ _ X\n",
      "_ _ _ _ _ X _\n",
      "_ _ _ _ _ _ X\n",
      "_ _ _ _ _ X _\n",
      "_ _ _ _ _ _ X\n",
      "_ _ _ _ _ X _\n",
      "_ _ _ _ _ _ X\n",
      "_ _ _ _ _ X _\n",
      "_ _ _ _ _ _ X\n",
      "_ _ _ _ _ X _\n",
      "_ _ _ _ _ _ X\n",
      "_ _ _ _ _ X _\n",
      "_ _ _ _ _ _ X\n",
      "_ _ _ _ _ X _\n",
      "_ _ _ _ _ _ X\n",
      "_ _ _ _ _ X _\n",
      "_ _ _ _ _ _ X\n",
      "_ _ _ _ _ X _\n",
      "_ _ _ _ _ _ X\n",
      "_ _ _ _ _ X _\n",
      "_ _ _ _ _ _ X\n",
      "_ _ _ _ _ X _\n",
      "_ _ _ _ _ _ X\n",
      "_ _ _ _ _ X _\n",
      "_ _ _ _ _ _ X\n",
      "_ _ _ _ _ X _\n",
      "_ _ _ _ _ _ X\n",
      "_ _ _ _ _ X _\n",
      "_ _ _ _ _ _ X\n",
      "_ _ _ _ _ X _\n",
      "_ _ _ _ _ _ X\n",
      "_ _ _ _ _ X _\n",
      "_ _ _ _ _ _ X\n",
      "_ _ _ _ _ X _\n",
      "_ _ _ _ _ _ X\n",
      "_ _ _ _ _ X _\n",
      "_ _ _ _ _ _ X\n",
      "_ _ _ _ _ X _\n",
      "_ _ _ _ _ _ X\n",
      "_ _ _ _ _ X _\n",
      "_ _ _ _ _ _ X\n",
      "_ _ _ _ _ X _\n",
      "_ _ _ _ _ _ X\n",
      "_ _ _ _ _ X _\n",
      "_ _ _ _ _ _ X\n",
      "_ _ _ _ _ X _\n",
      "_ _ _ _ _ _ X\n",
      "_ _ _ _ _ X _\n",
      "_ _ _ _ _ _ X\n",
      "_ _ _ _ _ X _\n",
      "_ _ _ _ _ _ X\n",
      "_ _ _ _ _ X _\n",
      "_ _ _ _ _ _ X\n",
      "_ _ _ _ _ X _\n",
      "_ _ _ _ _ _ X\n",
      "_ _ _ _ _ X _\n",
      "_ _ _ _ _ _ X\n",
      "_ _ _ _ _ X _\n",
      "_ _ _ _ _ _ X\n",
      "_ _ _ _ _ X _\n",
      "_ _ _ _ _ _ X\n",
      "_ _ _ _ _ X _\n",
      "_ _ _ _ _ _ X\n",
      "_ _ _ _ _ X _\n",
      "_ _ _ _ _ _ X\n",
      "_ _ _ _ _ X _\n",
      "_ _ _ _ _ _ X\n",
      "_ _ _ _ _ X _\n",
      "_ _ _ _ _ _ X\n",
      "_ _ _ _ _ X _\n",
      "_ _ _ _ _ _ X\n",
      "_ _ _ _ _ X _\n",
      "_ _ _ _ _ _ X\n",
      "_ _ _ _ _ X _\n",
      "_ _ _ _ _ _ X\n",
      "_ _ _ _ _ X _\n",
      "_ _ _ _ _ _ X\n",
      "_ _ _ _ _ X _\n",
      "_ _ _ _ _ _ X\n",
      "_ _ _ _ _ X _\n",
      "_ _ _ _ _ _ X\n",
      "_ _ _ _ _ X _\n",
      "_ _ _ _ _ _ X\n",
      "_ _ _ _ _ X _\n"
     ]
    }
   ],
   "source": [
    "# Run the \"right\" policy for T steps, update the total reward\n",
    "lw = LinearWorld(7)\n",
    "totalRight = 0\n",
    "for t in range(T):\n",
    "    _, reward = lw.step(RIGHT)\n",
    "    lw.showWorld()\n",
    "    totalRight = totalRight + reward"
   ]
  },
  {
   "cell_type": "code",
   "execution_count": 17,
   "id": "7268a0b9",
   "metadata": {},
   "outputs": [
    {
     "name": "stdout",
     "output_type": "stream",
     "text": [
      "49\n"
     ]
    }
   ],
   "source": [
    "# Check the total rewards we got\n",
    "print(totalRight)"
   ]
  }
 ],
 "metadata": {
  "kernelspec": {
   "display_name": "Python 3 (ipykernel)",
   "language": "python",
   "name": "python3"
  },
  "language_info": {
   "codemirror_mode": {
    "name": "ipython",
    "version": 3
   },
   "file_extension": ".py",
   "mimetype": "text/x-python",
   "name": "python",
   "nbconvert_exporter": "python",
   "pygments_lexer": "ipython3",
   "version": "3.10.7"
  }
 },
 "nbformat": 4,
 "nbformat_minor": 5
}
